{
 "cells": [
  {
   "cell_type": "markdown",
   "id": "1732b767",
   "metadata": {},
   "source": [
    "## Android Studio的安装"
   ]
  },
  {
   "cell_type": "markdown",
   "id": "0c5f80a1",
   "metadata": {},
   "source": [
    "1. 首先进入[官网](https://developer.android.google.cn/studio/) 选择最新版“window 64bit”对Android Stduio进行下载"
   ]
  },
  {
   "cell_type": "markdown",
   "id": "fc06fc14",
   "metadata": {},
   "source": [
    "如图![安装页面](https://github.com/oldman4ever/installation/raw/master/screenshot/1.png?raw=true)"
   ]
  },
  {
   "cell_type": "markdown",
   "id": "b7a924fb",
   "metadata": {},
   "source": [
    "2. 下载好后进入安装页面，不断点击“next”进入到下一界面。"
   ]
  },
  {
   "cell_type": "markdown",
   "id": "3e7d98ee",
   "metadata": {},
   "source": [
    "3. 到此页面时请注意这样勾选："
   ]
  },
  {
   "cell_type": "markdown",
   "id": "ca73144c",
   "metadata": {},
   "source": [
    "如图![勾选界面](https://github.com/oldman4ever/installation/raw/master/screenshot/2.png?raw=true)"
   ]
  },
  {
   "cell_type": "markdown",
   "id": "a0bde6e8",
   "metadata": {},
   "source": [
    "4. 接着继续\"Next\",最终完成安装。"
   ]
  },
  {
   "cell_type": "markdown",
   "id": "9ad64f3e",
   "metadata": {},
   "source": [
    "5. 接下来进入Android Studio开始配置文件。进入后会遇到如下界面，需要我们配置SDK。\n",
    "![配置sdk界面](https://github.com/oldman4ever/installation/raw/master/screenshot/3.png)"
   ]
  },
  {
   "cell_type": "markdown",
   "id": "c4c06567",
   "metadata": {},
   "source": [
    "由于之前已经安装过了SDK，所以跟着程序配置之后导入SDK就行。\n",
    "![导入](https://github.com/oldman4ever/installation/raw/master/screenshot/4.png)"
   ]
  },
  {
   "cell_type": "markdown",
   "id": "08cf0d5b",
   "metadata": {},
   "source": [
    "6. 接下来我们就可以开始新建一个项目。选择:Empty Activity\n",
    "![new project](https://github.com/oldman4ever/installation/raw/master/screenshot/5.png)"
   ]
  },
  {
   "cell_type": "markdown",
   "id": "acaf4cf0",
   "metadata": {},
   "source": [
    "7.耐心等待build之后就完成了Android Studio 的安装\n",
    "![finishi](https://github.com/oldman4ever/installation/raw/master/screenshot/6.png)"
   ]
  },
  {
   "cell_type": "markdown",
   "id": "4c281a36",
   "metadata": {},
   "source": [
    "## 安装Anaconda并使用Jyputer notebook"
   ]
  },
  {
   "cell_type": "markdown",
   "id": "08522bbf",
   "metadata": {},
   "source": [
    "1. 由于众所周知的原因，到官网下载速度较慢，所以建议选择清华开源镜像软件站来下载Anaconda\n",
    "[下载地址](https://mirrors.tuna.tsinghua.edu.cn/anaconda/archive/)"
   ]
  },
  {
   "cell_type": "markdown",
   "id": "e975fbe5",
   "metadata": {},
   "source": [
    "2. 下载完成后点开安装包，打开后点击“next”-“i agree”；"
   ]
  },
  {
   "cell_type": "markdown",
   "id": "271c10f7",
   "metadata": {},
   "source": [
    "3. 然后第三步选择只为自己安装“just me”;"
   ]
  },
  {
   "cell_type": "markdown",
   "id": "3b7c2e40",
   "metadata": {},
   "source": [
    "4. 随后选择软件的安装位置，记住自己的安装位置;"
   ]
  },
  {
   "cell_type": "markdown",
   "id": "235eb0d8",
   "metadata": {},
   "source": [
    "5. 接下来进入“Advanced Installation Options”只要勾选“Register AnaConda3 as my default Python 3.9”即可，随后点击“Install”。"
   ]
  },
  {
   "cell_type": "markdown",
   "id": "7ff6ea76",
   "metadata": {},
   "source": [
    "6. 借来下等待安装:\n",
    "![安装](https://github.com/oldman4ever/installation/raw/master/screenshot/7.png)"
   ]
  },
  {
   "cell_type": "markdown",
   "id": "ad4c74d7",
   "metadata": {},
   "source": [
    "7 安装完成后，可以用过“开始 → Anaconda3 （64-bit ） → Anaconda Navigator\n",
    "(anaconda3)，启动成功说明安装成功”"
   ]
  },
  {
   "cell_type": "markdown",
   "id": "573e0ab4",
   "metadata": {},
   "source": [
    "8. 接下来我们打开Anaconda Navigator，打开选择Jyputer Notebook 打开。\n",
    "![jyputer](https://github.com/oldman4ever/installation/raw/master/screenshot/8.png)"
   ]
  },
  {
   "cell_type": "markdown",
   "id": "46ddc037",
   "metadata": {},
   "source": [
    "9. 人生的第一行jyputer:\n",
    "![1st notebook](https://github.com/oldman4ever/installation/raw/master/screenshot/9.png)"
   ]
  },
  {
   "cell_type": "code",
   "execution_count": null,
   "id": "e3309908",
   "metadata": {},
   "outputs": [],
   "source": []
  }
 ],
 "metadata": {
  "kernelspec": {
   "display_name": "Python 3 (ipykernel)",
   "language": "python",
   "name": "python3"
  },
  "language_info": {
   "codemirror_mode": {
    "name": "ipython",
    "version": 3
   },
   "file_extension": ".py",
   "mimetype": "text/x-python",
   "name": "python",
   "nbconvert_exporter": "python",
   "pygments_lexer": "ipython3",
   "version": "3.9.7"
  }
 },
 "nbformat": 4,
 "nbformat_minor": 5
}
